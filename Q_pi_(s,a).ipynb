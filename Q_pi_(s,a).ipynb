{
  "nbformat": 4,
  "nbformat_minor": 0,
  "metadata": {
    "colab": {
      "provenance": []
    },
    "kernelspec": {
      "name": "python3",
      "display_name": "Python 3"
    },
    "language_info": {
      "name": "python"
    }
  },
  "cells": [
    {
      "cell_type": "code",
      "source": [
        "import numpy as np\n",
        "P = np.array([[[1, 0, 0, 0, 0],\n",
        "        [0, 0, 0, 0, 0],\n",
        "        [0, 1, 0, 0, 0],\n",
        "        [0, 0, 0, 0, 0],\n",
        "        [0, 0, 0, 0, 0]],\n",
        "\n",
        "        [[0, 0, 0, 0, 0],\n",
        "        [0, 0, 0, 0, 0],\n",
        "        [0, 0, 0, 0, 0],\n",
        "        [0, 0, 0, 0, 0],\n",
        "        [0, 0, 0, 0, 0]],\n",
        "\n",
        "        [[0, 0, 1, 0, 0],\n",
        "        [0, 0, 0, 1, 0],\n",
        "        [0, 0, 0, 0, 0],\n",
        "        [0, 1, 0, 0, 0],\n",
        "        [0, 0, 0, 0, 0]],\n",
        "\n",
        "        [[0, 0, 1, 0, 0],\n",
        "        [0, 0, 0, 1, 0],\n",
        "        [0, 0, 0, 0, 0],\n",
        "        [0, 0, 0, 0, 0],\n",
        "        [0, 1, 0, 0, 0]],\n",
        "\n",
        "        [[0, 0, 0, 0, 0],\n",
        "        [0, 0, 0, 1, 0],\n",
        "        [0, 0, 0, 0, 0.2],\n",
        "        [0, 0, 0, 0, 0.2],\n",
        "        [0, 0, 0, 0, 0.6]]])\n",
        "print(P)"
      ],
      "metadata": {
        "colab": {
          "base_uri": "https://localhost:8080/"
        },
        "id": "NMCEIl2cxMMd",
        "outputId": "fe4a52c2-4b13-4ccf-e6f8-1e4d803272c6"
      },
      "execution_count": 2,
      "outputs": [
        {
          "output_type": "stream",
          "name": "stdout",
          "text": [
            "[[[1.  0.  0.  0.  0. ]\n",
            "  [0.  0.  0.  0.  0. ]\n",
            "  [0.  1.  0.  0.  0. ]\n",
            "  [0.  0.  0.  0.  0. ]\n",
            "  [0.  0.  0.  0.  0. ]]\n",
            "\n",
            " [[0.  0.  0.  0.  0. ]\n",
            "  [0.  0.  0.  0.  0. ]\n",
            "  [0.  0.  0.  0.  0. ]\n",
            "  [0.  0.  0.  0.  0. ]\n",
            "  [0.  0.  0.  0.  0. ]]\n",
            "\n",
            " [[0.  0.  1.  0.  0. ]\n",
            "  [0.  0.  0.  1.  0. ]\n",
            "  [0.  0.  0.  0.  0. ]\n",
            "  [0.  1.  0.  0.  0. ]\n",
            "  [0.  0.  0.  0.  0. ]]\n",
            "\n",
            " [[0.  0.  1.  0.  0. ]\n",
            "  [0.  0.  0.  1.  0. ]\n",
            "  [0.  0.  0.  0.  0. ]\n",
            "  [0.  0.  0.  0.  0. ]\n",
            "  [0.  1.  0.  0.  0. ]]\n",
            "\n",
            " [[0.  0.  0.  0.  0. ]\n",
            "  [0.  0.  0.  1.  0. ]\n",
            "  [0.  0.  0.  0.  0.2]\n",
            "  [0.  0.  0.  0.  0.2]\n",
            "  [0.  0.  0.  0.  0.6]]]\n"
          ]
        }
      ]
    },
    {
      "cell_type": "code",
      "source": [
        "R = np.array([\n",
        "    [0, 10, 0, 0, 0],\n",
        "    [0, 0, 0, 0, 0],\n",
        "    [0, -2, -10, 4, 0],\n",
        "    [0, -2, -10, 8, 0],\n",
        "    [0, 0, 0, 10, 1]\n",
        "])\n",
        "print(R)"
      ],
      "metadata": {
        "colab": {
          "base_uri": "https://localhost:8080/"
        },
        "id": "Xor5H941ygG-",
        "outputId": "15802cb1-12ce-4d2b-a47b-5995788169a6"
      },
      "execution_count": 3,
      "outputs": [
        {
          "output_type": "stream",
          "name": "stdout",
          "text": [
            "[[  0  10   0   0   0]\n",
            " [  0   0   0   0   0]\n",
            " [  0  -2 -10   4   0]\n",
            " [  0  -2 -10   8   0]\n",
            " [  0   0   0  10   1]]\n"
          ]
        }
      ]
    },
    {
      "cell_type": "code",
      "source": [
        "Q = np.array([\n",
        "    [14.28125, 14.28125, 0, 0, 0],\n",
        "    [0, 0, 0, 0, 0],\n",
        "    [0, 4.5625, 4.28125, 4, 0],\n",
        "    [0, 7.40625, 4.28125, 8, 0],\n",
        "    [0, 0, 0, 10, 8.8125]\n",
        "])\n",
        "print(Q)"
      ],
      "metadata": {
        "colab": {
          "base_uri": "https://localhost:8080/"
        },
        "id": "qwxeAvelIOTo",
        "outputId": "c2ee2ae3-6f01-4679-d77b-87c080d0d666"
      },
      "execution_count": 4,
      "outputs": [
        {
          "output_type": "stream",
          "name": "stdout",
          "text": [
            "[[14.28125 14.28125  0.       0.       0.     ]\n",
            " [ 0.       0.       0.       0.       0.     ]\n",
            " [ 0.       4.5625   4.28125  4.       0.     ]\n",
            " [ 0.       7.40625  4.28125  8.       0.     ]\n",
            " [ 0.       0.       0.      10.       8.8125 ]]\n"
          ]
        }
      ]
    },
    {
      "cell_type": "code",
      "source": [
        "pi = np.array([[0.5,0.5,0,0,0],\n",
        "         [0,0,0,0,0],\n",
        "         [0,0.333,0.333,0.333,0],\n",
        "         [0,0.333,0.333,0.333,0],\n",
        "         [0,0,0,0.5,0.5]])\n",
        "x=np.array([1,1,1,1,1])\n",
        "V_pi=np.dot(np.multiply(pi,Q),x)\n",
        "print(V_pi)"
      ],
      "metadata": {
        "colab": {
          "base_uri": "https://localhost:8080/"
        },
        "id": "Mm5y5qmxI8yL",
        "outputId": "ce703e81-3e6e-47cb-885d-6943c7b43488"
      },
      "execution_count": 5,
      "outputs": [
        {
          "output_type": "stream",
          "name": "stdout",
          "text": [
            "[14.28125     0.          4.27696875  6.5559375   9.40625   ]\n"
          ]
        }
      ]
    },
    {
      "cell_type": "code",
      "source": [
        "V_pi_P=np.dot(V_pi,P)\n",
        "print(V_pi_P)"
      ],
      "metadata": {
        "colab": {
          "base_uri": "https://localhost:8080/"
        },
        "id": "OKBzTpEm4of4",
        "outputId": "3d52fbdf-3c62-4f4a-cf3c-9c0d73aef4b5"
      },
      "execution_count": 6,
      "outputs": [
        {
          "output_type": "stream",
          "name": "stdout",
          "text": [
            "[[14.28125     4.27696875  0.          0.          0.        ]\n",
            " [ 0.          0.          0.          0.          0.        ]\n",
            " [ 0.          6.5559375  14.28125     0.          0.        ]\n",
            " [ 0.          9.40625    14.28125     0.          0.        ]\n",
            " [ 0.          0.          0.          0.          7.81033125]]\n"
          ]
        }
      ]
    },
    {
      "cell_type": "code",
      "source": [
        "Q_pi=(R+V_pi_P)\n",
        "print(Q_pi)"
      ],
      "metadata": {
        "colab": {
          "base_uri": "https://localhost:8080/"
        },
        "id": "2zySrJmE7iak",
        "outputId": "ebda75ef-7b5f-4ea9-8a00-51338253a5ae"
      },
      "execution_count": 8,
      "outputs": [
        {
          "output_type": "stream",
          "name": "stdout",
          "text": [
            "[[14.28125    14.27696875  0.          0.          0.        ]\n",
            " [ 0.          0.          0.          0.          0.        ]\n",
            " [ 0.          4.5559375   4.28125     4.          0.        ]\n",
            " [ 0.          7.40625     4.28125     8.          0.        ]\n",
            " [ 0.          0.          0.         10.          8.81033125]]\n"
          ]
        }
      ]
    }
  ]
}
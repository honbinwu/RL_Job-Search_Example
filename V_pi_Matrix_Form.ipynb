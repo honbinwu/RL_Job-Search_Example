{
  "nbformat": 4,
  "nbformat_minor": 0,
  "metadata": {
    "colab": {
      "provenance": []
    },
    "kernelspec": {
      "name": "python3",
      "display_name": "Python 3"
    },
    "language_info": {
      "name": "python"
    }
  },
  "cells": [
    {
      "cell_type": "code",
      "execution_count": 9,
      "metadata": {
        "id": "dMEYn5RPGaeE",
        "colab": {
          "base_uri": "https://localhost:8080/"
        },
        "outputId": "37d80ba8-b4c9-4635-b516-15b1da743680"
      },
      "outputs": [
        {
          "output_type": "stream",
          "name": "stdout",
          "text": [
            "[14.26322435  0.          4.26322435  6.54525719  9.40121165]\n"
          ]
        }
      ],
      "source": [
        "import numpy as np\n",
        "matrix_int=np.identity(5,dtype=int) #單位矩陣\n",
        "\n",
        "P=np.array([\n",
        " [0.5,0,0.5,0,0],\n",
        " [0,0,0,0,0],\n",
        " [0.333,0.333,0,0.333,0],\n",
        " [0.333,0.333,0,0,0.333],\n",
        " [0,0.5,0.1,0.1,0.3]]   \n",
        ")\n",
        "sol_inv=np.linalg.inv(matrix_int-P) #逆矩陣\n",
        "\n",
        "R=np.array([5,0,-2.666,-1.335,5.5])\n",
        "print(np.dot(sol_inv,R))"
      ]
    }
  ]
}